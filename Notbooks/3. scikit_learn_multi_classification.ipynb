{
 "cells": [
  {
   "cell_type": "markdown",
   "metadata": {
    "collapsed": false,
    "deletable": true,
    "editable": true
   },
   "source": [
    "# Scikit Learn - Multi Classification\n",
    "\n",
    "#### by Alex Ahn\n",
    "\n",
    "We can leverage many different classification models provided in the scikit-learn package for not only binary-classifications but also multi-classifications (more than one labels/target values)\n",
    "\n",
    "The following exercise is designed to try/test different classification models on the datasets which consists of pitches thrown by Clayton Kershaw from 2014 ~ 2017.\n",
    "\n",
    "You can choose different parameters for each model to enhance the fittingness and evaluate the results using different metrics (i.e. precision/recall scores).\n",
    "\n",
    "We will further explore onto model selections using GridSearchCV to search for optimal parameters."
   ]
  },
  {
   "cell_type": "code",
   "execution_count": null,
   "metadata": {
    "collapsed": true,
    "deletable": true,
    "editable": true
   },
   "outputs": [],
   "source": [
    "# import useful tools\n",
    "import csv\n",
    "import pickle\n",
    "from sklearn import datasets, metrics\n",
    "from sklearn.svm import LinearSVC\n",
    "from sklearn.multiclass import OneVsRestClassifier\n",
    "from sklearn.multiclass import OneVsOneClassifier\n",
    "from sklearn.neural_network import MLPClassifier\n",
    "from sklearn.model_selection import train_test_split\n",
    "from sklearn.ensemble import RandomForestClassifier\n",
    "from sklearn.externals import joblib"
   ]
  },
  {
   "cell_type": "code",
   "execution_count": 45,
   "metadata": {
    "collapsed": false,
    "deletable": true,
    "editable": true
   },
   "outputs": [],
   "source": [
    "# Reading pitches thrown for Clayton Kershaw.\n",
    "csv_file = 'data/ClaytonKershaw.csv'\n",
    "file = open(csv_file, \"r\")\n",
    "reader = csv.reader(file)\n",
    "\n",
    "# store each instances and target values\n",
    "instances = []\n",
    "target = []\n",
    "row_num = 0 \n",
    "for row in reader:\n",
    "    if row_num is 0:\n",
    "        header = row\n",
    "    else:\n",
    "        col_num = 0\n",
    "        features = []\n",
    "        for col in row:\n",
    "            if col_num is 0:\n",
    "                target.append(int(col))\n",
    "                instances.append([])\n",
    "            else:\n",
    "                instances[row_num-1].append(int(col))\n",
    "            col_num += 1\n",
    "    row_num +=1\n",
    "file.close()\n",
    "data = [instances, target]"
   ]
  },
  {
   "cell_type": "code",
   "execution_count": 32,
   "metadata": {
    "collapsed": false,
    "deletable": true,
    "editable": true
   },
   "outputs": [
    {
     "name": "stdout",
     "output_type": "stream",
     "text": [
      "Features:\n",
      " ['pitch_type', 'batter_num', 'pitch_rl', 'bat_rl', 'inning', 'balls', 'strikes', 'out', 'on_1b', 'on_2b', 'on_3b', 'score_diff', 'prev_pitch_type']\n",
      "\n",
      "Instance(one pitch data):\n",
      " [1, 0, 0, 1, 0, 0, 0, 0, 0, 0, 0, -1]\n"
     ]
    }
   ],
   "source": [
    "# Names of the featuress can be seen as below.\n",
    "print(\"Features:\\n\", header)\n",
    "\n",
    "# An instance 'X' looks as below\n",
    "print(\"\\nInstance(one pitch data):\\n\", instances[0])"
   ]
  },
  {
   "cell_type": "code",
   "execution_count": 60,
   "metadata": {
    "collapsed": false,
    "deletable": true,
    "editable": true
   },
   "outputs": [
    {
     "data": {
      "text/plain": [
       "RandomForestClassifier(bootstrap=True, class_weight=None, criterion='gini',\n",
       "            max_depth=None, max_features='auto', max_leaf_nodes=None,\n",
       "            min_impurity_split=1e-07, min_samples_leaf=1,\n",
       "            min_samples_split=2, min_weight_fraction_leaf=0.0,\n",
       "            n_estimators=10, n_jobs=1, oob_score=False, random_state=None,\n",
       "            verbose=0, warm_start=False)"
      ]
     },
     "execution_count": 60,
     "metadata": {},
     "output_type": "execute_result"
    }
   ],
   "source": [
    "# Split X and y values.\n",
    "X = data[0]\n",
    "y = data[1]\n",
    "n_samples = len(X)\n",
    "\n",
    "# split into a training and testing set\n",
    "X_train, X_test, y_train, y_test = train_test_split(X, y, test_size=0.25, random_state=42)\n",
    "\n",
    "# try fitting onto different multi-classification models by uncommenting on each\n",
    "\n",
    "#clf = OneVsRestClassifier(LinearSVC(random_state=0))\n",
    "#clf = OneVsOneClassifier(LinearSVC(random_state=0))\n",
    "#clf = svm.SVC(decision_function_shape='ovr')\n",
    "#clf = GridSearchCV(svm.SVC(kernel='rbf', decision_function_shape='ovr'), param_grid)\n",
    "#clf = MLPClassifier()\n",
    "\n",
    "clf = RandomForestClassifier()\n",
    "clf.fit(X_train, y_train)    "
   ]
  },
  {
   "cell_type": "code",
   "execution_count": 61,
   "metadata": {
    "collapsed": false,
    "deletable": true,
    "editable": true
   },
   "outputs": [
    {
     "name": "stdout",
     "output_type": "stream",
     "text": [
      "Classification report for classifier RandomForestClassifier(bootstrap=True, class_weight=None, criterion='gini',\n",
      "            max_depth=None, max_features='auto', max_leaf_nodes=None,\n",
      "            min_impurity_split=1e-07, min_samples_leaf=1,\n",
      "            min_samples_split=2, min_weight_fraction_leaf=0.0,\n",
      "            n_estimators=10, n_jobs=1, oob_score=False, random_state=None,\n",
      "            verbose=0, warm_start=False):\n",
      "             precision    recall  f1-score   support\n",
      "\n",
      "          1       0.64      0.74      0.69      1130\n",
      "          7       0.36      0.29      0.32       564\n",
      "         10       0.33      0.25      0.29       268\n",
      "\n",
      "avg / total       0.52      0.54      0.53      1962\n",
      "\n",
      "\n",
      "Confusion matrix:\n",
      "[[836 213  81]\n",
      " [345 162  57]\n",
      " [125  75  68]]\n"
     ]
    }
   ],
   "source": [
    "# Evaluation using metrics\n",
    "actual = y_test\n",
    "predicted = clf.predict(X_test)\n",
    "\n",
    "# precision, recall, f1-score report on clf.\n",
    "print(\"Classification report for classifier %s:\\n%s\\n\"\n",
    "  % (clf, metrics.classification_report(actual, predicted)))\n",
    "\n",
    "# confusion matrix\n",
    "print(\"Confusion matrix:\\n%s\" % metrics.confusion_matrix(actual, predicted))"
   ]
  },
  {
   "cell_type": "code",
   "execution_count": 62,
   "metadata": {
    "collapsed": false,
    "deletable": true,
    "editable": true
   },
   "outputs": [
    {
     "data": {
      "text/plain": [
       "['data/ClaytonKershaw_model.pkl']"
      ]
     },
     "execution_count": 62,
     "metadata": {},
     "output_type": "execute_result"
    }
   ],
   "source": [
    "# we can save the classifier using pickle and joblib (to load back later with out computation).\n",
    "file_name = \"data/ClaytonKershaw_model.pkl\"\n",
    "joblib.dump(clf, file_name)"
   ]
  }
 ],
 "metadata": {
  "kernelspec": {
   "display_name": "Python 3",
   "language": "python",
   "name": "python3"
  },
  "language_info": {
   "codemirror_mode": {
    "name": "ipython",
    "version": 3
   },
   "file_extension": ".py",
   "mimetype": "text/x-python",
   "name": "python",
   "nbconvert_exporter": "python",
   "pygments_lexer": "ipython3",
   "version": "3.6.0"
  }
 },
 "nbformat": 4,
 "nbformat_minor": 2
}
